{
 "cells": [
  {
   "cell_type": "code",
   "execution_count": 56,
   "metadata": {},
   "outputs": [],
   "source": [
    "import numpy as np\n",
    "import matplotlib.pyplot as plt\n",
    "import os\n",
    "import cv2\n",
    "import random\n",
    "import time\n",
    "import tensorflow as tf\n",
    "from keras.models import Sequential\n",
    "from keras.layers import Dense, Dropout, Activation, Flatten, Conv2D, MaxPooling2D\n",
    "from datetime import datetime"
   ]
  },
  {
   "cell_type": "code",
   "execution_count": 2,
   "metadata": {},
   "outputs": [],
   "source": [
    "DATADIR = \".\\\\detected_lines\"\n",
    "CATEGORIES = [\"w\", \"a\", \"d\"]\n",
    "IMG_SIZE = 80"
   ]
  },
  {
   "cell_type": "code",
   "execution_count": 3,
   "metadata": {},
   "outputs": [
    {
     "name": "stdout",
     "output_type": "stream",
     "text": [
      "1262\n"
     ]
    }
   ],
   "source": [
    "min_images_number = 99999\n",
    "\n",
    "for category in CATEGORIES:\n",
    "    path = os.path.join(DATADIR, category)\n",
    "    image_number = len(os.listdir(path))\n",
    "    if image_number < min_images_number:\n",
    "        min_images_number = image_number\n",
    "        \n",
    "print (min_images_number)"
   ]
  },
  {
   "cell_type": "code",
   "execution_count": 4,
   "metadata": {},
   "outputs": [],
   "source": [
    "def create_training_data():\n",
    "    tr_data = []\n",
    "    for category in CATEGORIES:\n",
    "        path = os.path.join(DATADIR, category)\n",
    "        \n",
    "        class_num = CATEGORIES.index(category)\n",
    "#         print (class_num)\n",
    "        \n",
    "        label = [0, 0, 0]\n",
    "        label[class_num] = 1\n",
    "        images_list = os.listdir(path)\n",
    "        for i in range(min_images_number):\n",
    "            img = images_list[i]\n",
    "#             print (img)\n",
    "            try:\n",
    "                img_array = cv2.imread(os.path.join(path, img), cv2.IMREAD_GRAYSCALE)\n",
    "                new_array = cv2.resize(img_array, (IMG_SIZE, IMG_SIZE))\n",
    "                tr_data.append([new_array, label])\n",
    "            except Exception as e:\n",
    "                print (e)\n",
    "    random.shuffle(tr_data)\n",
    "    return tr_data"
   ]
  },
  {
   "cell_type": "code",
   "execution_count": 5,
   "metadata": {},
   "outputs": [
    {
     "name": "stdout",
     "output_type": "stream",
     "text": [
      "(80, 80, 1)\n"
     ]
    }
   ],
   "source": [
    "training_data = create_training_data()\n",
    "\n",
    "X = []\n",
    "y = []\n",
    "\n",
    "for img, label in training_data:\n",
    "    X.append(img)\n",
    "    y.append(label)\n",
    "\n",
    "X = np.array(X).reshape(-1, IMG_SIZE, IMG_SIZE, 1)\n",
    "print(X[0].shape)\n",
    "y = np.array(y)\n",
    "\n",
    "# print(y.shape)\n",
    "\n",
    "X = X / 255.0"
   ]
  },
  {
   "cell_type": "code",
   "execution_count": 43,
   "metadata": {},
   "outputs": [],
   "source": [
    "model = Sequential()\n",
    "model.add(Conv2D(256, (7, 7), input_shape = X[0].shape, activation = \"relu\", padding = 'same'  )   )\n",
    "# model.add(MaxPooling2D(pool_size = (2, 2)))\n",
    "\n",
    "model.add(Conv2D(256, (3, 3), activation = \"relu\"))\n",
    "model.add(MaxPooling2D(pool_size = (2, 2)))\n",
    "\n",
    "model.add(Conv2D(128, (3, 3), activation = \"relu\"))\n",
    "model.add(MaxPooling2D(pool_size = (2, 2)))\n",
    "\n",
    "model.add(Conv2D(64, (3, 3), activation = \"relu\"))\n",
    "model.add(MaxPooling2D(pool_size = (2, 2)))\n",
    "\n",
    "model.add(Flatten())\n",
    "model.add(Dense(256, activation = \"relu\"))\n",
    "model.add(Dropout(0.2))\n",
    "\n",
    "model.add(Dense(128, activation = \"relu\"))\n",
    "model.add(Dropout(0.2))\n",
    "\n",
    "model.add(Dense(32, activation = \"relu\"))\n",
    "# model.add(Dropout(0.2))\n",
    "\n",
    "model.add(Dense(3, activation = \"softmax\"))"
   ]
  },
  {
   "cell_type": "code",
   "execution_count": 44,
   "metadata": {},
   "outputs": [
    {
     "name": "stdout",
     "output_type": "stream",
     "text": [
      "Model: \"sequential_10\"\n",
      "_________________________________________________________________\n",
      "Layer (type)                 Output Shape              Param #   \n",
      "=================================================================\n",
      "conv2d_35 (Conv2D)           (None, 80, 80, 256)       12800     \n",
      "_________________________________________________________________\n",
      "conv2d_36 (Conv2D)           (None, 78, 78, 256)       590080    \n",
      "_________________________________________________________________\n",
      "max_pooling2d_19 (MaxPooling (None, 39, 39, 256)       0         \n",
      "_________________________________________________________________\n",
      "conv2d_37 (Conv2D)           (None, 37, 37, 128)       295040    \n",
      "_________________________________________________________________\n",
      "max_pooling2d_20 (MaxPooling (None, 18, 18, 128)       0         \n",
      "_________________________________________________________________\n",
      "conv2d_38 (Conv2D)           (None, 16, 16, 64)        73792     \n",
      "_________________________________________________________________\n",
      "max_pooling2d_21 (MaxPooling (None, 8, 8, 64)          0         \n",
      "_________________________________________________________________\n",
      "flatten_10 (Flatten)         (None, 4096)              0         \n",
      "_________________________________________________________________\n",
      "dense_37 (Dense)             (None, 256)               1048832   \n",
      "_________________________________________________________________\n",
      "dropout_22 (Dropout)         (None, 256)               0         \n",
      "_________________________________________________________________\n",
      "dense_38 (Dense)             (None, 128)               32896     \n",
      "_________________________________________________________________\n",
      "dropout_23 (Dropout)         (None, 128)               0         \n",
      "_________________________________________________________________\n",
      "dense_39 (Dense)             (None, 32)                4128      \n",
      "_________________________________________________________________\n",
      "dense_40 (Dense)             (None, 3)                 99        \n",
      "=================================================================\n",
      "Total params: 2,057,667\n",
      "Trainable params: 2,057,667\n",
      "Non-trainable params: 0\n",
      "_________________________________________________________________\n"
     ]
    }
   ],
   "source": [
    "model.summary()"
   ]
  },
  {
   "cell_type": "code",
   "execution_count": 45,
   "metadata": {},
   "outputs": [],
   "source": [
    "model.compile(loss = \"categorical_crossentropy\", optimizer = \"adam\", metrics = ['accuracy'])"
   ]
  },
  {
   "cell_type": "code",
   "execution_count": 46,
   "metadata": {},
   "outputs": [
    {
     "name": "stdout",
     "output_type": "stream",
     "text": [
      "Train on 3407 samples, validate on 379 samples\n",
      "Epoch 1/10\n",
      "3407/3407 [==============================] - 29s 9ms/step - loss: 0.4203 - accuracy: 0.8268 - val_loss: 0.3418 - val_accuracy: 0.8997\n",
      "Epoch 2/10\n",
      "3407/3407 [==============================] - 29s 8ms/step - loss: 0.2696 - accuracy: 0.8984 - val_loss: 0.1975 - val_accuracy: 0.9367\n",
      "Epoch 3/10\n",
      "3407/3407 [==============================] - 29s 8ms/step - loss: 0.2216 - accuracy: 0.9210 - val_loss: 0.1867 - val_accuracy: 0.9314\n",
      "Epoch 4/10\n",
      "3407/3407 [==============================] - 29s 8ms/step - loss: 0.1776 - accuracy: 0.9387 - val_loss: 0.1679 - val_accuracy: 0.9340\n",
      "Epoch 5/10\n",
      "3407/3407 [==============================] - 29s 8ms/step - loss: 0.1632 - accuracy: 0.9480 - val_loss: 0.1566 - val_accuracy: 0.9446\n",
      "Epoch 6/10\n",
      "3407/3407 [==============================] - 29s 8ms/step - loss: 0.1424 - accuracy: 0.9554 - val_loss: 0.1491 - val_accuracy: 0.9499\n",
      "Epoch 7/10\n",
      "3407/3407 [==============================] - 29s 8ms/step - loss: 0.1230 - accuracy: 0.9589 - val_loss: 0.1703 - val_accuracy: 0.9551\n",
      "Epoch 8/10\n",
      "3407/3407 [==============================] - 29s 8ms/step - loss: 0.0999 - accuracy: 0.9674 - val_loss: 0.1512 - val_accuracy: 0.9525\n",
      "Epoch 9/10\n",
      "3407/3407 [==============================] - 29s 8ms/step - loss: 0.0988 - accuracy: 0.9662 - val_loss: 0.1538 - val_accuracy: 0.9551\n",
      "Epoch 10/10\n",
      "3407/3407 [==============================] - 29s 8ms/step - loss: 0.0965 - accuracy: 0.9680 - val_loss: 0.1205 - val_accuracy: 0.9657\n"
     ]
    },
    {
     "data": {
      "text/plain": [
       "<keras.callbacks.callbacks.History at 0x190bea02cc8>"
      ]
     },
     "execution_count": 46,
     "metadata": {},
     "output_type": "execute_result"
    }
   ],
   "source": [
    "model.fit(X, y, batch_size = 32, epochs = 10, validation_split = 0.1)"
   ]
  },
  {
   "cell_type": "code",
   "execution_count": 57,
   "metadata": {},
   "outputs": [],
   "source": [
    "now = datetime.now()\n",
    "dt_string = now.strftime(\"%d-%m-%Y_%H-%M-%S\")"
   ]
  },
  {
   "cell_type": "code",
   "execution_count": 66,
   "metadata": {},
   "outputs": [],
   "source": [
    "NAME = \"cnn_model_imgsize\" + str(IMG_SIZE) + \"-DATE-\" + dt_string\n",
    "model.save(NAME + \".h5\")"
   ]
  },
  {
   "cell_type": "code",
   "execution_count": null,
   "metadata": {},
   "outputs": [],
   "source": []
  },
  {
   "cell_type": "code",
   "execution_count": null,
   "metadata": {},
   "outputs": [],
   "source": []
  },
  {
   "cell_type": "code",
   "execution_count": null,
   "metadata": {},
   "outputs": [],
   "source": []
  }
 ],
 "metadata": {
  "kernelspec": {
   "display_name": "Python 3.7.6 64-bit ('tf-gpu': conda)",
   "language": "python",
   "name": "python37664bittfgpucondaa2e4fb2e1d99411285a09752af27b43f"
  },
  "language_info": {
   "codemirror_mode": {
    "name": "ipython",
    "version": 3
   },
   "file_extension": ".py",
   "mimetype": "text/x-python",
   "name": "python",
   "nbconvert_exporter": "python",
   "pygments_lexer": "ipython3",
   "version": "3.7.6"
  }
 },
 "nbformat": 4,
 "nbformat_minor": 4
}
